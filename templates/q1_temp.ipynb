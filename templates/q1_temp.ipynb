{
 "cells": [
  {
   "cell_type": "markdown",
   "metadata": {},
   "source": [
    "## 1.2"
   ]
  },
  {
   "cell_type": "code",
   "execution_count": 1,
   "metadata": {},
   "outputs": [],
   "source": [
    "# Xtrn_classes = split_classes(Xtrn, Ytrn)\n",
    "# classes = i_class(Xtrn_classes)\n",
    "# class_mean = classes_mean(classes) \n"
   ]
  },
  {
   "cell_type": "code",
   "execution_count": 2,
   "metadata": {},
   "outputs": [],
   "source": [
    "# def find_all_distance(class_data, means):\n",
    "#     distances = []\n",
    "#     distance = {}\n",
    "#     for i in range(len(class_data)):\n",
    "#         temp = {}\n",
    "#         for j in range(len(class_data[i])):\n",
    "#             val = scipy.spatial.distance.euclidean(class_data[i].iloc[j,:-1], means[i])\n",
    "#             distance[j] = val\n",
    "#         temp = {k: v for k, v in sorted(distance.items(), key=lambda item: item[1])}\n",
    "#         print(i, \"is added\")\n",
    "#         distances.append(temp)\n",
    "#     return distances"
   ]
  },
  {
   "cell_type": "code",
   "execution_count": 3,
   "metadata": {},
   "outputs": [],
   "source": [
    "# classes[0].iloc[5993]"
   ]
  },
  {
   "cell_type": "code",
   "execution_count": 4,
   "metadata": {},
   "outputs": [],
   "source": [
    "# distances = find_all_distance(classes, class_mean)"
   ]
  },
  {
   "cell_type": "code",
   "execution_count": 5,
   "metadata": {},
   "outputs": [],
   "source": [
    "# a = list(distances[1].keys())\n",
    "# distances[1][1421]"
   ]
  },
  {
   "cell_type": "code",
   "execution_count": 6,
   "metadata": {},
   "outputs": [],
   "source": [
    "# get_closest_furthest(distances[1])"
   ]
  },
  {
   "cell_type": "code",
   "execution_count": 7,
   "metadata": {},
   "outputs": [],
   "source": [
    "# print(classes[0].iloc[1,:-1].shape)\n",
    "# print(class_mean[0].shape)"
   ]
  },
  {
   "cell_type": "code",
   "execution_count": 8,
   "metadata": {},
   "outputs": [],
   "source": [
    "# scipy.spatial.distance.euclidean(classes[0].iloc[5993,:-1], class_mean[0])"
   ]
  },
  {
   "cell_type": "code",
   "execution_count": 9,
   "metadata": {},
   "outputs": [],
   "source": [
    "# def get_closest_furthest(distance):\n",
    "#     distance = list(distance.keys())\n",
    "#     required = []\n",
    "#     close_1 = distance[0]\n",
    "#     close_2 = distance[1]\n",
    "#     further_2 = distance[-2]\n",
    "#     further_1 = distance[-1]\n",
    "#     required.append(close_1)\n",
    "#     required.append(close_2)\n",
    "#     required.append(further_2)\n",
    "#     required.append(further_1)\n",
    "#     return required"
   ]
  },
  {
   "cell_type": "code",
   "execution_count": 10,
   "metadata": {},
   "outputs": [],
   "source": [
    "# flg, ax = plt.subplots(10,5, figsize=(20,40))\n",
    "# for i in range(len(class_mean)):\n",
    "#     counter = 1\n",
    "#     ax[i, 0].imshow(np.array(class_mean[i]).reshape((28,28)), 'gray_r')\n",
    "#     ax[i, 0].title.set_text(\"Mean\")\n",
    "#     ax[i, 1].title.set_text(\"1st closest\")\n",
    "#     ax[i, 2].title.set_text(\"2nd closest\")\n",
    "#     ax[i, 3].title.set_text(\"2nd furtherest\")\n",
    "#     ax[i, 4].title.set_text(\"1st furtherest\")\n",
    "# #     plt.plot()\n",
    "#     distance = get_closest_furthest(distances[i])\n",
    "#     print(distance)\n",
    "#     for j in distance:\n",
    "#         ax[i, counter].imshow(np.array(classes[i].iloc[j,:-1]).reshape((28,28)), 'gray_r')\n",
    "#         counter += 1"
   ]
  },
  {
   "cell_type": "code",
   "execution_count": 1,
   "metadata": {},
   "outputs": [],
   "source": [
    "# pca = PCA(n_components = 5)\n",
    "# Xtrn_nm = pca.fit_transform(Xtrn_nm)\n",
    "# Xtrn_nm\n",
    "# Xtrn_nm_cov = np.cov(Xtrn_nm.T)\n",
    "# pd.DataFrame(Xtrn_nm_cov)"
   ]
  },
  {
   "cell_type": "markdown",
   "metadata": {},
   "source": [
    "## 1.6"
   ]
  },
  {
   "cell_type": "code",
   "execution_count": 2,
   "metadata": {},
   "outputs": [],
   "source": [
    "# pca_5 = PCA(n_components=5)\n",
    "# Xtrn_nm_5 = pca_5.fit_transform(Xtrn_nm)\n",
    "# Xtrn_nm_5.shape\n",
    "# new_Xtrn_nm = pca_5.inverse_transform(Xtrn_nm_5)\n",
    "# new_Xtrn_classes = split_classes(new_Xtrn_nm, Ytrn)\n",
    "# new_classes = i_class(new_Xtrn_classes)"
   ]
  },
  {
   "cell_type": "markdown",
   "metadata": {},
   "source": [
    "## 1.7"
   ]
  },
  {
   "cell_type": "code",
   "execution_count": 4,
   "metadata": {},
   "outputs": [],
   "source": [
    "# pca = PCA(n_components=5)\n",
    "# Xtrn_nm_k = pca.fit_transform(Xtrn_nm)\n",
    "# Xtrn_nm_k = pca.inverse_transform(Xtrn_nm_k)\n",
    "# Xtrn_k = Xtrn_nm_k + Xmean\n",
    "# new_Xtrn_classes = split_classes(Xtrn_k, Ytrn)\n",
    "# new_classes = i_class(new_Xtrn_classes)\n",
    "# new_classes[0].iloc[0,:-1].shape\n",
    "# K = [5, 20, 50, 200]\n",
    "# flg, ax = plt.subplots(10,4, figsize=(20,40))\n",
    "# for i in range(len(K)):\n",
    "#     print(\"K = \", K[i])\n",
    "#     pca = PCA(n_components=K[i])\n",
    "#     Xtrn_nm_k = pca.fit_transform(Xtrn_nm)\n",
    "#     Xtrn_nm_k = pca.inverse_transform(Xtrn_nm_k)\n",
    "#     Xtrn_k = Xtrn_nm_k + Xmean\n",
    "#     new_Xtrn_classes = split_classes(Xtrn_k, Ytrn)\n",
    "#     new_classes = i_class(new_Xtrn_classes)\n",
    "#     print(len(new_classes))\n",
    "#     for j in range(len(new_classes)):\n",
    "#         ax[j,i].title.set_text(\"Labe 0 Class {} with K {}\".format(j,i))\n",
    "#         ax[j,i].imshow(np.reshape(new_classes[j].iloc[0,:-1].values, (28,28)), 'gray_r')\n",
    "    "
   ]
  },
  {
   "cell_type": "code",
   "execution_count": null,
   "metadata": {},
   "outputs": [],
   "source": []
  }
 ],
 "metadata": {
  "kernelspec": {
   "display_name": "Python 3",
   "language": "python",
   "name": "python3"
  },
  "language_info": {
   "codemirror_mode": {
    "name": "ipython",
    "version": 3
   },
   "file_extension": ".py",
   "mimetype": "text/x-python",
   "name": "python",
   "nbconvert_exporter": "python",
   "pygments_lexer": "ipython3",
   "version": "3.7.7"
  }
 },
 "nbformat": 4,
 "nbformat_minor": 4
}
