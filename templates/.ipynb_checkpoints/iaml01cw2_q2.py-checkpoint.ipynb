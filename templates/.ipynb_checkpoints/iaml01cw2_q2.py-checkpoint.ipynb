{
 "cells": [
  {
   "cell_type": "code",
   "execution_count": 1,
   "metadata": {
    "ExecuteTime": {
     "end_time": "2020-11-23T15:44:13.655621Z",
     "start_time": "2020-11-23T15:44:13.648643Z"
    }
   },
   "outputs": [],
   "source": [
    "##########################################################\n",
    "#  Python script template for Question 2 (IAML Level 10)\n",
    "#  Note that\n",
    "#  - You should not change the name of this file, 'iaml01cw2_q2.py', which is the file name you should use when you submit your code for this question.\n",
    "#  - You should write code for the functions defined below. Do not change their names.\n",
    "#  - You can define function arguments (parameters) and returns (attributes) if necessary.\n",
    "#  - In case you define additional functions, do not define them here, but put them in a separate Python module file, \"iaml01cw2_my_helpers.py\", and import it in this script.\n",
    "#  - For those questions requiring you to show results in tables, your code does not need to present them in tables - just showing them with print() is fine.\n",
    "#  - You do not need to include this header in your submission.\n",
    "##########################################################"
   ]
  },
  {
   "cell_type": "markdown",
   "metadata": {},
   "source": [
    "## Question 2 : (25 total points) Logistic regression and SVM"
   ]
  },
  {
   "cell_type": "markdown",
   "metadata": {},
   "source": [
    "### In this question we will explore classification of image data with logistic regression and support vector machines (SVM) and visualisation of decision regions."
   ]
  },
  {
   "cell_type": "markdown",
   "metadata": {},
   "source": [
    "### Here we will look into logistic regression as an example of linear classifiers and SVM as an example of nonlinear classifiers. The SVM was originally for binary classification, but we consider an extended version to multi-class classification by forming one-to-rest (OvR) classifiers, in which each classifier is trained in such a way that it separates the data of the target class from those of the other classes.\n",
    "### Apart from basic classification experiments, we will visualise decision regions using PCA, in which we consider a two-dimensional plane in the original vector space and visualise how the points on the plane are classified.\n",
    "### We use the same image data set as the one for Question 1. Make sure that you apply the four steps of normalisation described in Question 1 and use the normalised data, i.e. Xtrn_nm for training and Xtst_nm for testing in this question."
   ]
  },
  {
   "cell_type": "markdown",
   "metadata": {},
   "source": [
    "### Prepreparation"
   ]
  },
  {
   "cell_type": "code",
   "execution_count": 2,
   "metadata": {
    "ExecuteTime": {
     "end_time": "2020-11-23T15:44:13.798278Z",
     "start_time": "2020-11-23T15:44:13.656622Z"
    }
   },
   "outputs": [],
   "source": [
    "import sklearn\n",
    "import sys\n",
    "sys.version"
   ]
  },
  {
   "cell_type": "code",
   "execution_count": 3,
   "metadata": {
    "ExecuteTime": {
     "end_time": "2020-11-23T15:44:14.371642Z",
     "start_time": "2020-11-23T15:44:13.799286Z"
    }
   },
   "outputs": [],
   "source": [
    "#--- Code for loading modules and the data set and pre-processing --->\n",
    "# NB: You can edit the following and add code (e.g. code for loading sklearn) if necessary.\n",
    "\n",
    "import numpy as np\n",
    "import scipy\n",
    "import matplotlib.pyplot as plt\n",
    "import seaborn as sns\n",
    "from iaml01cw2_helpers import *\n",
    "from iaml01cw2_my_helpers import *\n",
    "from sklearn.linear_model import LogisticRegression\n",
    "from sklearn.metrics import confusion_matrix, accuracy_score\n",
    "from sklearn.svm import SVC\n",
    "from sklearn.decomposition import PCA\n",
    "from sklearn.model_selection import cross_val_score"
   ]
  },
  {
   "cell_type": "code",
   "execution_count": 4,
   "metadata": {
    "ExecuteTime": {
     "end_time": "2020-11-23T15:44:14.387160Z",
     "start_time": "2020-11-23T15:44:14.372644Z"
    }
   },
   "outputs": [],
   "source": [
    "import os\n",
    "os.getcwd()\n",
    "path = '../data/q1'"
   ]
  },
  {
   "cell_type": "code",
   "execution_count": 5,
   "metadata": {
    "ExecuteTime": {
     "end_time": "2020-11-23T15:44:14.930157Z",
     "start_time": "2020-11-23T15:44:14.388161Z"
    }
   },
   "outputs": [],
   "source": [
    "## Load the dataset\n",
    "Xtrn, Ytrn, Xtst, Ytst = load_FashionMNIST(path)\n",
    "\n",
    "## Step 1\n",
    "Xtrn_orig = Xtrn\n",
    "Xtst_orig = Xtst\n",
    "\n",
    "## Step 2\n",
    "Xtrn = Xtrn / 255.0\n",
    "Xtst = Xtst / 255.0\n",
    "\n",
    "## Step 3\n",
    "Xmean = np.mean(Xtrn, 0)\n",
    "\n",
    "## Step 4\n",
    "Xtrn_nm = Xtrn - Xmean\n",
    "Xtst_nm = Xtst - Xmean"
   ]
  },
  {
   "cell_type": "code",
   "execution_count": 6,
   "metadata": {
    "ExecuteTime": {
     "end_time": "2020-11-23T15:44:15.458656Z",
     "start_time": "2020-11-23T15:44:14.931158Z"
    }
   },
   "outputs": [],
   "source": [
    "Xtrn_classes = split_classes(Xtrn, Ytrn)\n",
    "classes = i_class(Xtrn_classes, Ytrn)\n",
    "class_mean = classes_mean(classes, Ytrn) \n",
    "Xtrn_classes_nm = split_classes(Xtrn_nm, Ytrn)\n",
    "classes_nm = i_class(Xtrn_classes_nm, Ytrn)"
   ]
  },
  {
   "cell_type": "markdown",
   "metadata": {},
   "source": [
    "## 2.1 (3 points) Carry out a classification experiment with multinomial logistic regression, and report the classification accuracy and confusion matrix (in numbers rather than in graphical representation such as heatmap) for the test set.\n",
    "You should use sklearn.linear_model_LogisticRegression() with the default param- eters. Make sure that you use Xtrn_nm for training and Xtst_nm for testing."
   ]
  },
  {
   "cell_type": "code",
   "execution_count": 7,
   "metadata": {
    "ExecuteTime": {
     "end_time": "2020-11-23T15:49:50.636379Z",
     "start_time": "2020-11-23T15:44:15.459439Z"
    }
   },
   "outputs": [
    {
     "name": "stdout",
     "output_type": "stream",
     "text": [
      "CM:  [[819   3  15  50   7   4  89   1  12   0]\n",
      " [  5 953   4  27   5   0   3   1   2   0]\n",
      " [ 27   4 731  11 133   0  82   2   9   1]\n",
      " [ 31  15  14 866  33   0  37   0   4   0]\n",
      " [  0   3 115  38 760   2  72   0  10   0]\n",
      " [  2   0   0   1   0 911   0  56  10  20]\n",
      " [147   3 128  46 108   0 539   0  28   1]\n",
      " [  0   0   0   0   0  32   0 936   1  31]\n",
      " [  7   1   6  11   3   7  15   5 945   0]\n",
      " [  0   0   0   1   0  15   1  42   0 941]]\n",
      "Accuracy:  0.8401\n"
     ]
    }
   ],
   "source": [
    "# Q2.1\n",
    "def iaml01cw2_q2_1():\n",
    "    lg_classifier = LogisticRegression()\n",
    "    lg_classifier.fit(Xtrn_nm, Ytrn)\n",
    "    lg_pred = lg_classifier.predict(Xtst_nm)\n",
    "    cm = confusion_matrix(Ytst, lg_pred)\n",
    "    print(\"CM: \", cm)\n",
    "    print(\"Accuracy: \", accuracy_score( Ytst, lg_pred))\n",
    "#\n",
    "iaml01cw2_q2_1()   # comment this out when you run the function"
   ]
  },
  {
   "cell_type": "markdown",
   "metadata": {},
   "source": [
    "## 2.2 (3 points) Carry out a classification experiment with SVM classifiers, and report the mean accuracy and confusion matrix (in numbers) for the test set.\n",
    "You should use sklearn.svm.SVC() with the default parameters (kernel=’rbf’, C = 1.0, gamma=’auto’)."
   ]
  },
  {
   "cell_type": "code",
   "execution_count": 8,
   "metadata": {
    "ExecuteTime": {
     "end_time": "2020-11-23T16:01:28.498026Z",
     "start_time": "2020-11-23T15:49:50.638380Z"
    }
   },
   "outputs": [
    {
     "name": "stdout",
     "output_type": "stream",
     "text": [
      "CM:  [[845   2   8  51   4   4  72   0  14   0]\n",
      " [  4 951   7  31   5   0   1   0   1   0]\n",
      " [ 15   2 748  11 137   0  79   0   8   0]\n",
      " [ 32   6  12 881  26   0  40   0   3   0]\n",
      " [  1   0  98  36 775   0  86   0   4   0]\n",
      " [  0   0   0   1   0 914   0  57   2  26]\n",
      " [185   1 122  39  95   0 533   0  25   0]\n",
      " [  0   0   0   0   0  34   0 925   0  41]\n",
      " [  3   1   8   5   2   4  13   4 959   1]\n",
      " [  0   0   0   0   0  22   0  47   1 930]]\n",
      "Accuracy:  0.8461\n"
     ]
    }
   ],
   "source": [
    "# Q2.2\n",
    "def iaml01cw2_q2_2():\n",
    "    svc_classifier = SVC()\n",
    "    svc_classifier.fit(Xtrn_nm, Ytrn)\n",
    "    svc_pred = svc_classifier.predict(Xtst_nm)\n",
    "    cm = confusion_matrix(Ytst, svc_pred)\n",
    "    print(\"CM: \", cm)\n",
    "    print(\"Accuracy: \", accuracy_score(Ytst, svc_pred))\n",
    "iaml01cw2_q2_2()   # comment this out when you run the function"
   ]
  },
  {
   "cell_type": "markdown",
   "metadata": {},
   "source": [
    "## 2.3 (6 points) We now want to visualise the decision regions for the logistic regression classifier we trained in Question 2.1. Since it is not possible to visualise the original vector of 784 dimensions, we consider a two- dimensional plane, i.e. cross section, in the original space and visualise decisions regions for the points on that plane, ignoring points outside the plane. \n",
    "### We here employ the plane spanned by the first two principal components, where we assume that the plane shares the same origin as the one of the original vector space. \n",
    "### Using matplotlib.pyplot.counterf() and ’coolwarm’ colormap, plot the decisions regions for the rectangular area of 100-by-100 grid points whose left-upper corner is (−5σ1, 5σ2) and right-bottom corner is (5σ1, −5σ2), where σ1 and σ2 denote the standard deviations for the first principal component and second principal component, respectively. You should also use matplotlib.colorbar() to display a colorbar.\n",
    "Report your findings briefly.\n",
    "Hint: The projected point z = (z1,...,zD) with PCA is given as z = xVT, where V is a D-by-D square matrix, whose i-th row corresponds to the i-th eigenvector. Note that both z and x represent the same point with different coordinate systems, the original vector space and the one spanned with D eigenvectors, and the two coordinate systems share the same origin. Any points on the 2D-plane spanned with the first two principal components can be expressed as z = (z1, z2, 0, . . . , 0). You can find the corresponding x in the original vector space by x = zV ."
   ]
  },
  {
   "cell_type": "code",
   "execution_count": 9,
   "metadata": {
    "ExecuteTime": {
     "end_time": "2020-11-23T16:06:47.637391Z",
     "start_time": "2020-11-23T16:01:28.499027Z"
    }
   },
   "outputs": [
    {
     "data": {
      "image/png": "[encoded data removed]",
      "text/plain": [
       "<Figure size 720x540 with 2 Axes>"
      ]
     },
     "metadata": {
      "needs_background": "light"
     },
     "output_type": "display_data"
    }
   ],
   "source": [
    "# Q2.3\n",
    "def iaml01cw2_q2_3():\n",
    "    pca = PCA(n_components=2)\n",
    "    pc = pca.fit_transform(Xtrn_nm)\n",
    "    sigma1 = np.std(pc[:,0])\n",
    "    sigma2 = np.std(pc[:,1])\n",
    "    lg_classifier = LogisticRegression()\n",
    "    lg_classifier.fit(Xtrn_nm, Ytrn)\n",
    "    x = np.linspace(-5 * sigma1, 5*sigma1, 100)\n",
    "    y = np.linspace(-5* sigma2, 5*sigma2, 100)\n",
    "    x_, y_ = np.meshgrid(x,y)\n",
    "    grid = []\n",
    "    for i in range(len(x_)):\n",
    "        for j in range(len(y_)):\n",
    "            coordinate =[x_[i,j], y_[i,j]]\n",
    "            grid.append(coordinate)\n",
    "    new_grid = pca.inverse_transform(grid)\n",
    "    z = lg_classifier.predict(new_grid).reshape(100,100)\n",
    "    fig, ax = plt.subplots(figsize = (10,7.5))\n",
    "    cf = ax.contourf(x_,y_,z, levels =np.arange(-1,10), cmap = plt.cm.coolwarm)\n",
    "    cbar = fig.colorbar(cf, ticks = (np.arange(-0.5, 9.5)))\n",
    "    cbar.set_ticklabels(np.arange(0,10))\n",
    "    cbar.ax.set_ylabel('Class')\n",
    "    plt.title('Decision Regions for Logistic Regression Classifier after PCA')\n",
    "    plt.xlabel('Standard Derivation for PC 1')\n",
    "    plt.ylabel('Standard Derivation for PC 2')\n",
    "    plt.savefig('q2_3.png')\n",
    "    plt.show()\n",
    "#\n",
    "iaml01cw2_q2_3()   # comment this out when you run the function"
   ]
  },
  {
   "cell_type": "markdown",
   "metadata": {},
   "source": [
    "## 2.4 (4 points) Using the same method as the one above, plot the decision regions for the SVM classifier you trained in Question 2.2. Comparing the result with that you obtained in Question 2.3, discuss your findings briefly."
   ]
  },
  {
   "cell_type": "code",
   "execution_count": 10,
   "metadata": {
    "ExecuteTime": {
     "end_time": "2020-11-23T16:06:47.652913Z",
     "start_time": "2020-11-23T16:06:47.638392Z"
    }
   },
   "outputs": [],
   "source": [
    "# pca = PCA(n_components=2)\n",
    "# pc = pca.fit_transform(Xtrn_nm)\n",
    "# sigma1 = np.std(pc[:,0])\n",
    "# sigma2 = np.std(pc[:,1])\n",
    "# svm_classifier = SVC()\n",
    "# svm_classifier.fit(Xtrn_nm, Ytrn)\n",
    "# x = np.linspace(-5 * sigma1, 5*sigma1, 100)\n",
    "# y = np.linspace(-5* sigma2, 5*sigma2, 100)\n",
    "# x_, y_ = np.meshgrid(x,y)\n",
    "# grid = []\n",
    "# for i in range(len(x_)):\n",
    "#     for j in range(len(y_)):\n",
    "#         coordinate =[x_[i,j], y_[i,j]]\n",
    "#         grid.append(coordinate)\n",
    "# new_grid = pca.inverse_transform(grid)\n",
    "# z = svm_classifier.predict(new_grid).reshape(100,100)"
   ]
  },
  {
   "cell_type": "code",
   "execution_count": 11,
   "metadata": {
    "ExecuteTime": {
     "end_time": "2020-11-23T16:06:47.668727Z",
     "start_time": "2020-11-23T16:06:47.653912Z"
    }
   },
   "outputs": [],
   "source": [
    "# fig, ax = plt.subplots(figsize = (10,7.5))\n",
    "# cf = ax.contourf(x_,y_,z, levels =np.arange(-1,10), cmap = plt.cm.coolwarm)\n",
    "# cbar = fig.colorbar(cf, ticks = (np.arange(-0.5, 9.5)))\n",
    "# cbar.set_ticklabels(np.arange(0,10))\n",
    "# cbar.ax.set_ylabel('Class')\n",
    "# plt.title('Decision Regions for SVM after PCA')\n",
    "# plt.xlabel('Standard Derivation for PC 1')\n",
    "# plt.ylabel('Standard Derivation for PC 2')\n",
    "# plt.savefig('q2_4.png')\n",
    "# plt.show()"
   ]
  },
  {
   "cell_type": "code",
   "execution_count": 12,
   "metadata": {
    "ExecuteTime": {
     "end_time": "2020-11-23T16:17:53.063355Z",
     "start_time": "2020-11-23T16:06:47.669730Z"
    }
   },
   "outputs": [
    {
     "data": {
      "image/png": "[encoded data removed]",
      "text/plain": [
       "<Figure size 720x540 with 2 Axes>"
      ]
     },
     "metadata": {
      "needs_background": "light"
     },
     "output_type": "display_data"
    }
   ],
   "source": [
    "# Q2.4\n",
    "def iaml01cw2_q2_4():\n",
    "    pca = PCA(n_components=2)\n",
    "    pc = pca.fit_transform(Xtrn_nm)\n",
    "    sigma1 = np.std(pc[:,0])\n",
    "    sigma2 = np.std(pc[:,1])\n",
    "    svm_classifier = SVC()\n",
    "    svm_classifier.fit(Xtrn_nm, Ytrn)\n",
    "    x = np.linspace(-5 * sigma1, 5*sigma1, 100)\n",
    "    y = np.linspace(-5* sigma2, 5*sigma2, 100)\n",
    "    x_, y_ = np.meshgrid(x,y)\n",
    "    grid = []\n",
    "    for i in range(len(x_)):\n",
    "        for j in range(len(y_)):\n",
    "            coordinate =[x_[i,j], y_[i,j]]\n",
    "            grid.append(coordinate)\n",
    "    new_grid = pca.inverse_transform(grid)\n",
    "    z = svm_classifier.predict(new_grid).reshape(100,100)\n",
    "    fig, ax = plt.subplots(figsize = (10,7.5))\n",
    "    cf = ax.contourf(x_,y_,z, levels =np.arange(-1,10), cmap = plt.cm.coolwarm)\n",
    "    cbar = fig.colorbar(cf, ticks = (np.arange(-0.5, 9.5)))\n",
    "    cbar.set_ticklabels(np.arange(0,10))\n",
    "    cbar.ax.set_ylabel('Class')\n",
    "    plt.title('Decision Regions for SVM after PCA')\n",
    "    plt.xlabel('Standard Derivation for PC 1')\n",
    "    plt.ylabel('Standard Derivation for PC 2')\n",
    "    plt\n",
    "    plt.show()\n",
    "#\n",
    "iaml01cw2_q2_4()   # comment this out when you run the function"
   ]
  },
  {
   "cell_type": "markdown",
   "metadata": {},
   "source": [
    "## 2.5 (6 points) We used default parameters for the SVM in Question 2.2. We now want to tune the parameters by using cross-validation. To reduce the time for experiments, you pick up the first 1000 training samples from each class to create Xsmall, so that Xsmall contains 10,000 samples in total. Accordingly, you create labels, Ysmall. \n",
    "### By using a 3-fold cross validation and Xsmall only, estimate the classification accuracy of an SVM classifier with RBF kernel, while you vary the penalty parameter C in the range 10−2 to 103 (use 10 values spaced equally log space). Set the kernel coefficient parameter gamma to auto for this question. \n",
    "### Plot the mean cross-validated classification accuracy against the regularisation parameter C by using a log-scale for the x-axis. Report the highest obtained mean accuracy score and the value of C which yielded it."
   ]
  },
  {
   "cell_type": "code",
   "execution_count": 17,
   "metadata": {
    "ExecuteTime": {
     "end_time": "2020-11-23T16:28:46.827636Z",
     "start_time": "2020-11-23T16:17:53.126896Z"
    }
   },
   "outputs": [
    {
     "name": "stdout",
     "output_type": "stream",
     "text": [
      "c:  0.01\n",
      "mean:  0.6481958005910101\n",
      "c:  0.03593813663804628\n",
      "mean:  0.6910976845108582\n",
      "c:  0.1291549665014884\n",
      "mean:  0.7367022711334088\n",
      "c:  0.464158883361278\n",
      "mean:  0.783804163444882\n",
      "c:  1.6681005372000592\n",
      "mean:  0.8197017376658096\n",
      "c:  5.994842503189409\n",
      "mean:  0.8447012881144618\n",
      "c:  21.544346900318846\n",
      "mean:  0.8565023106939273\n",
      "c:  77.42636826811278\n",
      "mean:  0.8542039045033057\n",
      "c:  278.2559402207126\n",
      "mean:  0.8495030959102815\n",
      "c:  1000.0\n",
      "mean:  0.8406013798229367\n"
     ]
    },
    {
     "data": {
      "image/png": "[encoded data removed]",
      "text/plain": [
       "<Figure size 432x288 with 1 Axes>"
      ]
     },
     "metadata": {
      "needs_background": "light"
     },
     "output_type": "display_data"
    }
   ],
   "source": [
    "# Q2.5\n",
    "def iaml01cw2_q2_5():\n",
    "    Xsmall = classes[0][:1000].iloc[:,:-1]\n",
    "    for i in range(1,len(classes)):\n",
    "        Xsmall = pd.concat([Xsmall, classes[i][:1000].iloc[:,:-1]])\n",
    "\n",
    "    Ysmall = classes[0][:1000].iloc[:,-1]\n",
    "    for i in range(1,len(classes)):\n",
    "        Ysmall = pd.concat([Ysmall, classes[i][:1000].iloc[:,-1]])\n",
    "\n",
    "    scores = []\n",
    "    c = np.logspace(-2, 3, 10)\n",
    "    for i in c:\n",
    "        print('c: ', i)\n",
    "        svc_ = SVC(C = i, kernel=\"rbf\", gamma ='auto')\n",
    "        values = cross_val_score(svc_, Xsmall, Ysmall, cv=3)\n",
    "        mean = np.mean(values)\n",
    "        print('mean: ', mean)\n",
    "        scores.append(mean)\n",
    "    plt.plot(c, scores,marker='o', markerfacecolor='red', markersize=12, linewidth=2)\n",
    "    plt.grid(True)\n",
    "    plt.xscale('log')\n",
    "    plt.title('Cross-validated classification accuracy against parameter c')\n",
    "    plt.xlabel('Parameter c')\n",
    "    plt.ylabel('Accuracy')\n",
    "    plt.savefig('q2_5.png')\n",
    "\n",
    "iaml01cw2_q2_5()   # comment this out when you run the function"
   ]
  },
  {
   "cell_type": "markdown",
   "metadata": {},
   "source": [
    "##  2.6 (3 points) Train the SVM classifier on the whole training set by using the optimal value of C you found in Question 2.5.\n",
    "## Report the classification accuracy on the training set and test set. (Note that you do not use cross validation for this question.)"
   ]
  },
  {
   "cell_type": "code",
   "execution_count": 18,
   "metadata": {
    "ExecuteTime": {
     "end_time": "2020-11-23T16:47:03.985613Z",
     "start_time": "2020-11-23T16:28:46.828637Z"
    }
   },
   "outputs": [
    {
     "name": "stdout",
     "output_type": "stream",
     "text": [
      "Training Accuracy:  0.9084166666666667\n",
      "Testing Accuracy:  0.8765\n"
     ]
    }
   ],
   "source": [
    "# Q2.6 \n",
    "def iaml01cw2_q2_6():\n",
    "    c = np.logspace(-2, 3, 10)\n",
    "    optimal_c = c[6]\n",
    "    svc_classifier = SVC(C = optimal_c)\n",
    "    svc_classifier.fit(Xtrn_nm, Ytrn)\n",
    "    svc_pred_Xtrn = svc_classifier.predict(Xtrn_nm)\n",
    "    svc_pred_Xtst = svc_classifier.predict(Xtst_nm)\n",
    "    \n",
    "#     print(\"CM: \", cm)\n",
    "    print(\"Training Accuracy: \", accuracy_score(Ytrn, svc_pred_Xtrn))\n",
    "    print(\"Testing Accuracy: \", accuracy_score(Ytst, svc_pred_Xtst))\n",
    "#\n",
    "iaml01cw2_q2_6()   # comment this out when you run the function"
   ]
  },
  {
   "cell_type": "code",
   "execution_count": null,
   "metadata": {},
   "outputs": [],
   "source": []
  }
 ],
 "metadata": {
  "kernelspec": {
   "display_name": "Python 3",
   "language": "python",
   "name": "python3"
  },
  "language_info": {
   "codemirror_mode": {
    "name": "ipython",
    "version": 3
   },
   "file_extension": ".py",
   "mimetype": "text/x-python",
   "name": "python",
   "nbconvert_exporter": "python",
   "pygments_lexer": "ipython3",
   "version": "3.7.0"
  },
  "toc": {
   "base_numbering": 1,
   "nav_menu": {},
   "number_sections": true,
   "sideBar": true,
   "skip_h1_title": false,
   "title_cell": "Table of Contents",
   "title_sidebar": "Contents",
   "toc_cell": false,
   "toc_position": {
    "height": "calc(100% - 180px)",
    "left": "10px",
    "top": "150px",
    "width": "165px"
   },
   "toc_section_display": true,
   "toc_window_display": true
  },
  "varInspector": {
   "cols": {
    "lenName": 16,
    "lenType": 16,
    "lenVar": 40
   },
   "kernels_config": {
    "python": {
     "delete_cmd_postfix": "",
     "delete_cmd_prefix": "del ",
     "library": "var_list.py",
     "varRefreshCmd": "print(var_dic_list())"
    },
    "r": {
     "delete_cmd_postfix": ") ",
     "delete_cmd_prefix": "rm(",
     "library": "var_list.r",
     "varRefreshCmd": "cat(var_dic_list()) "
    }
   },
   "types_to_exclude": [
    "module",
    "function",
    "builtin_function_or_method",
    "instance",
    "_Feature"
   ],
   "window_display": false
  }
 },
 "nbformat": 4,
 "nbformat_minor": 4
}
